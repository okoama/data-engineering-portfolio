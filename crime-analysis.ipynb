{
 "cells": [
  {
   "cell_type": "markdown",
   "id": "0abb52a3-7ed2-420c-8b4d-10285c852112",
   "metadata": {},
   "source": [
    "# Importing Modules"
   ]
  },
  {
   "cell_type": "code",
   "execution_count": 1,
   "id": "f8c71809-6b68-4b49-92ff-4dad9293d2c9",
   "metadata": {},
   "outputs": [
    {
     "name": "stdout",
     "output_type": "stream",
     "text": [
      "Imported\n"
     ]
    }
   ],
   "source": [
    "import matplotlib.pyplot as plt\n",
    "import pandas as pd\n",
    "pd.plotting.register_matplotlib_converters()\n",
    "import numpy as np\n",
    "%matplotlib inline\n",
    "import seaborn as sns\n",
    "import sqlite3\n",
    "print(\"Imported\")"
   ]
  },
  {
   "cell_type": "code",
   "execution_count": 2,
   "id": "c3a73a85-f458-4989-8ddd-8ea017e00731",
   "metadata": {},
   "outputs": [
    {
     "name": "stdout",
     "output_type": "stream",
     "text": [
      "Connected\n"
     ]
    }
   ],
   "source": [
    "conn = sqlite3.connect('crimes.db')\n",
    "cursor = conn.cursor()\n",
    "print('Connected')"
   ]
  },
  {
   "cell_type": "code",
   "execution_count": 3,
   "id": "b9257e61-d189-46fe-a144-7d13b17dbd74",
   "metadata": {},
   "outputs": [
    {
     "name": "stderr",
     "output_type": "stream",
     "text": [
      "C:\\Users\\amara\\AppData\\Local\\Temp\\ipykernel_30904\\3489585925.py:2: DtypeWarning: Columns (18,21,26) have mixed types. Specify dtype option on import or set low_memory=False.\n",
      "  crimes = pd.read_csv(url)\n"
     ]
    },
    {
     "name": "stdout",
     "output_type": "stream",
     "text": [
      "Loaded\n"
     ]
    }
   ],
   "source": [
    "url = \"https://data.sfgov.org/api/views/wg3w-h783/rows.csv?accessType=DOWNLOAD\"\n",
    "crimes = pd.read_csv(url)\n",
    "print(\"Loaded\")"
   ]
  },
  {
   "cell_type": "markdown",
   "id": "9de86d8d-4174-4d40-a52c-4b1f09c5ca15",
   "metadata": {},
   "source": [
    "# Cleaning the Data"
   ]
  },
  {
   "cell_type": "markdown",
   "id": "6f6180af-62da-43f8-9089-a34132bb7d37",
   "metadata": {},
   "source": [
    "## Rewriting Column Names"
   ]
  },
  {
   "cell_type": "code",
   "execution_count": 4,
   "id": "d6de9265-292e-4c8b-9c04-ce97b4605b40",
   "metadata": {},
   "outputs": [
    {
     "data": {
      "text/plain": [
       "Index(['row_id', 'incident_datetime', 'incident_date', 'incident_time',\n",
       "       'incident_year', 'incident_day_of_week', 'report_datetime',\n",
       "       'incident_id', 'incident_number', 'cad_number', 'report_type_code',\n",
       "       'report_type_description', 'filed_online', 'incident_code',\n",
       "       'incident_category', 'incident_subcategory', 'incident_description',\n",
       "       'resolution', 'intersection', 'cnn', 'police_district',\n",
       "       'analysis_neighborhood', 'supervisor_district',\n",
       "       'supervisor_district_2012', 'latitude', 'longitude', 'point',\n",
       "       'data_as_of', 'data_loaded_at', 'neighborhoods',\n",
       "       'esncag_-_boundary_file',\n",
       "       'central_market/tenderloin_boundary_polygon_-_updated',\n",
       "       'civic_center_harm_reduction_project_boundary',\n",
       "       'hsoc_zones_as_of_2018-06-05', 'invest_in_neighborhoods_(iin)_areas',\n",
       "       'current_supervisor_districts', 'current_police_districts'],\n",
       "      dtype='object')"
      ]
     },
     "execution_count": 4,
     "metadata": {},
     "output_type": "execute_result"
    }
   ],
   "source": [
    "crimes.columns\n",
    "crimes.columns = crimes.columns.str.lower().str.replace(\" \",\"_\")\n",
    "crimes.columns"
   ]
  },
  {
   "cell_type": "markdown",
   "id": "ddcdc7cd-fa89-405e-ae46-3091c1d75de5",
   "metadata": {},
   "source": [
    "## Parsing Dates"
   ]
  },
  {
   "cell_type": "code",
   "execution_count": null,
   "id": "efdf6c99-ac0d-4009-9c84-a18ed9cb1288",
   "metadata": {},
   "outputs": [
    {
     "name": "stderr",
     "output_type": "stream",
     "text": [
      "C:\\Users\\amara\\AppData\\Local\\Temp\\ipykernel_30904\\1577822474.py:1: UserWarning: Could not infer format, so each element will be parsed individually, falling back to `dateutil`. To ensure parsing is consistent and as-expected, please specify a format.\n",
      "  crimes['incident_datetime'] = pd.to_datetime(crimes['incident_datetime'], errors = 'coerce')\n"
     ]
    }
   ],
   "source": [
    "crimes['incident_datetime'] = pd.to_datetime(crimes['incident_datetime'], errors = 'coerce')\n",
    "crimes['incident_date'] = pd.to_datetime(crimes['incident_date'], errors = 'coerce')\n",
    "crimes['incident_time'] = pd.to_datetime(crimes['incident_time'], errors = 'coerce')\n",
    "#crimes['incident_year'] = pd.to_datetime(crimes['incident_year'], errors = 'coerce')\n",
    "#crimes['Incident Day of Week'] = pd.to_datetime(crimes['Incident Day of Week'], errors = 'coerce')\n",
    "crimes['report_datetime'] = pd.to_datetime(crimes['report_datetime'], errors = 'coerce')\n",
    "\n",
    "crimes.head()"
   ]
  },
  {
   "cell_type": "markdown",
   "id": "6e556a2e-89d8-4201-821f-d973efc54e39",
   "metadata": {},
   "source": [
    "## Finding and Fixing Nulls"
   ]
  },
  {
   "cell_type": "code",
   "execution_count": null,
   "id": "f9d271f3-9bca-4259-a8eb-58bbed671a25",
   "metadata": {},
   "outputs": [],
   "source": [
    "cad_null = crimes[crimes['cad_number'].isnull()]\n",
    "online_null = crimes[crimes['filed_online'].isnull()]\n",
    "category_null = crimes[crimes['incident_category'].isnull()]\n",
    "sub_null = crimes[crimes['incident_subcategory'].isnull()]\n",
    "intersection_null = crimes[crimes['intersection'].isnull()]\n",
    "cnn_null = crimes[crimes['cnn'].isnull()]\n",
    "hood_null = crimes[crimes['analysis_neighborhood'].isnull()]\n",
    "district_null = crimes[crimes['supervisor_district'].isnull()]\n",
    "district_2012_null = crimes[crimes['supervisor_district_2012'].isnull()]\n",
    "lat_null = crimes[crimes['latitude'].isnull()]\n",
    "long_null = crimes[crimes['longitude'].isnull()]\n",
    "cord_null = crimes[crimes['point'].isnull()]\n",
    "# Nulls: CAD Number, Incident Category, Incident Subcategory, Intersection (where crime happened), CNN..."
   ]
  },
  {
   "cell_type": "code",
   "execution_count": null,
   "id": "964e8148-790a-449b-b2bd-231c7a753fe5",
   "metadata": {},
   "outputs": [],
   "source": [
    "crimes.filed_online = crimes.filed_online.fillna(False)\n",
    "print(crimes.filed_online.unique())"
   ]
  },
  {
   "cell_type": "code",
   "execution_count": null,
   "id": "c96c44c3-5aaf-481a-afd4-6acdbce391a1",
   "metadata": {},
   "outputs": [],
   "source": [
    "null_percent = (crimes.isnull().sum().sum() / crimes.size) * 100\n",
    "print(null_percent)"
   ]
  },
  {
   "cell_type": "code",
   "execution_count": null,
   "id": "0944b4fa-0fc6-43d0-9b9d-8e2c5118c791",
   "metadata": {},
   "outputs": [],
   "source": [
    "crimes.dropna()\n",
    "crimes.size"
   ]
  },
  {
   "cell_type": "markdown",
   "id": "ddba21e9-7aad-45db-8ce3-20d0f2317283",
   "metadata": {},
   "source": [
    "## Removing Duplicates"
   ]
  },
  {
   "cell_type": "code",
   "execution_count": null,
   "id": "3b168168-9904-476f-9c4f-b9438543d92e",
   "metadata": {},
   "outputs": [],
   "source": [
    "crimes.drop_duplicates(subset=['row_id'])\n",
    "crimes.size"
   ]
  },
  {
   "cell_type": "markdown",
   "id": "c537de44-6eba-4913-a863-dc1557963b4d",
   "metadata": {},
   "source": [
    "# SQL Queries - Finding Trends"
   ]
  },
  {
   "cell_type": "code",
   "execution_count": null,
   "id": "606b013b-90bb-4dc7-b89a-3c44d7bf2489",
   "metadata": {},
   "outputs": [],
   "source": [
    "# to sql table\n",
    "crimes_sql = crimes.copy()\n",
    "crimes.to_sql('crimes_sql',conn, if_exists= 'replace',index=False)"
   ]
  },
  {
   "cell_type": "code",
   "execution_count": null,
   "id": "b858d44c-1b59-4087-b037-6f826e9f52ee",
   "metadata": {},
   "outputs": [],
   "source": [
    "# total crimes per year\n",
    "total_crimes_query = '''SELECT incident_year,COUNT(*) as total_crimes FROM crimes_sql\n",
    "                        WHERE report_type_code = 'II'\n",
    "                        GROUP BY incident_year\n",
    "                        ORDER BY incident_year ASC;'''\n",
    "cursor.execute(total_crimes_query)\n",
    "results = cursor.fetchall()\n",
    "total_crimes = pd.DataFrame(results, columns = ['incident_year', 'total_crimes'])\n",
    "print(total_crimes)"
   ]
  },
  {
   "cell_type": "code",
   "execution_count": null,
   "id": "d311c616-94e8-4cce-8816-a72f57a8d34a",
   "metadata": {},
   "outputs": [],
   "source": [
    "# crimes by category\n",
    "crimes_cat_query = '''SELECT incident_category, COUNT(*) as count\n",
    "                      FROM crimes_sql\n",
    "                      WHERE report_type_code = 'II'\n",
    "                      GROUP BY incident_category\n",
    "                      ORDER BY count DESC;\n",
    "                      '''\n",
    "cursor.execute(crimes_cat_query)\n",
    "results = cursor.fetchall()\n",
    "crime_cat = pd.DataFrame(results,columns=['incident_category','count'])\n",
    "print(crime_cat.head())"
   ]
  },
  {
   "cell_type": "code",
   "execution_count": null,
   "id": "7e7b8310-d675-4abc-82b0-649941abd07c",
   "metadata": {},
   "outputs": [],
   "source": [
    "# crimes by district\n",
    "crimes_district_query = '''SELECT police_district, COUNT(*) as count\n",
    "                           FROM crimes_sql\n",
    "                           WHERE report_type_code = 'II'\n",
    "                           GROUP BY police_district\n",
    "                           ORDER BY count DESC;\n",
    "                           '''\n",
    "cursor.execute(crimes_district_query)\n",
    "results = cursor.fetchall()\n",
    "crime_district = pd.DataFrame(results,columns=['police_district','count'])\n",
    "print(crime_district.head())"
   ]
  },
  {
   "cell_type": "code",
   "execution_count": null,
   "id": "f9a1b4ca-7f67-4c3e-b753-950fddb580b8",
   "metadata": {},
   "outputs": [],
   "source": [
    "# crimes by neighborhood\n",
    "crimes_neighborhood_query = '''SELECT analysis_neighborhood, COUNT(*) AS count\n",
    "                               FROM crimes_sql\n",
    "                               WHERE report_type_code = 'II'\n",
    "                               GROUP BY analysis_neighborhood\n",
    "                               ORDER BY count DESC;\n",
    "                               '''\n",
    "cursor.execute(crimes_neighborhood_query)\n",
    "results = cursor.fetchall()\n",
    "crime_neighborhood = pd.DataFrame(results, columns = ['analysis_neighborhood','count'])\n",
    "print(crime_neighborhood.head())"
   ]
  },
  {
   "cell_type": "code",
   "execution_count": null,
   "id": "fe5f6116-4060-4c4c-8ee1-7a2355b1d668",
   "metadata": {},
   "outputs": [],
   "source": [
    "# arrest vs non-arrest\n",
    "arrest_type = crimes.resolution.unique()\n",
    "print(arrest_type)\n",
    "arrest_query = '''SELECT\n",
    "                     CASE\n",
    "                         WHEN resolution = 'Open or Active' THEN 'Non-Arrest'\n",
    "                         WHEN resolution = 'Exceptional Adult' THEN 'Arrest'\n",
    "                         WHEN resolution = 'Unfounded' THEN 'Non-Arrest'\n",
    "                         WHEN resolution = 'Cite or Arrest Adult' THEN 'Arrest'\n",
    "                     END AS arrest_status,\n",
    "                     COUNT(*) as count\n",
    "                 FROM crimes_sql\n",
    "                 WHERE report_type_code = 'II'\n",
    "                 GROUP BY arrest_status\n",
    "                 ORDER BY count DESC;'''\n",
    "cursor.execute(arrest_query)\n",
    "results = cursor.fetchall()\n",
    "arrests = pd.DataFrame(results, columns = ['resolution','count'])\n",
    "print(arrests)"
   ]
  },
  {
   "cell_type": "code",
   "execution_count": null,
   "id": "336d8827-433d-43c9-a778-56a6ad7a430b",
   "metadata": {},
   "outputs": [],
   "source": [
    "# crimes by week crimes\n",
    "crime_day_query = '''SELECT incident_day_of_week, COUNT(*)\n",
    "                     FROM crimes_sql\n",
    "                     WHERE report_type_code = 'II'\n",
    "                     GROUP BY incident_day_of_week\n",
    "                     ORDER BY\n",
    "                         CASE incident_day_of_week\n",
    "                             WHEN 'Sunday' THEN 1\n",
    "                             WHEN 'Monday' THEN 2\n",
    "                             WHEN 'Tuesday' THEN 3\n",
    "                             WHEN 'Wednesday' THEN 4\n",
    "                             WHEN 'Thursday' THEN 5\n",
    "                             WHEN 'Friday' THEN 6\n",
    "                             WHEN 'Saturday' THEN 7\n",
    "                             ELSE 8\n",
    "                         END;\n",
    "'''\n",
    "\n",
    "cursor.execute(crime_day_query)\n",
    "results = cursor.fetchall()\n",
    "crime_day = pd.DataFrame(results,columns=['day_of_week','count'])\n",
    "print(crime_day)"
   ]
  },
  {
   "cell_type": "code",
   "execution_count": null,
   "id": "eee6cb2e-f0ed-42c0-8684-4367a05129bb",
   "metadata": {},
   "outputs": [],
   "source": [
    "# crime category by district\n",
    "cat_by_district_query = '''SELECT police_district, incident_category, COUNT(*) as count\n",
    "                           FROM crimes_sql\n",
    "                           GROUP BY police_district, incident_category;'''\n",
    "cursor.execute(cat_by_district_query)\n",
    "results = cursor.fetchall()\n",
    "cat_district = pd.DataFrame(results, columns = ['police_district','incident_category','count'])\n",
    "print(cat_district)"
   ]
  },
  {
   "cell_type": "markdown",
   "id": "3e0f0453-0a7a-498a-b7b9-27d92e3228ea",
   "metadata": {},
   "source": [
    "# Seaborn Graphs and Plots"
   ]
  },
  {
   "cell_type": "code",
   "execution_count": null,
   "id": "5265a6f0-bff0-440d-a63a-9c2cc3e9ca1e",
   "metadata": {},
   "outputs": [],
   "source": [
    "# crimes over time\n",
    "plt.figure(figsize=(8,4))\n",
    "plt.title('Crimes Over Time')\n",
    "sns.lineplot(data = total_crimes,x='incident_year',y='total_crimes')\n",
    "plt.xlabel('Year')\n",
    "plt.ylabel('Crimes')\n",
    "plt.show()"
   ]
  },
  {
   "cell_type": "code",
   "execution_count": null,
   "id": "c490ab02-0834-4894-b6a5-132fdacd0437",
   "metadata": {},
   "outputs": [],
   "source": [
    "# crimes by category\n",
    "plt.figure(figsize=(8,4))\n",
    "plt.title(\"Crimes by Category\")\n",
    "sns.barplot(data=crime_cat.head(20),x='count',y='incident_category')\n",
    "plt.xlabel(\"Count\")\n",
    "plt.ylabel(\"Crime Category\")\n",
    "plt.show()"
   ]
  },
  {
   "cell_type": "code",
   "execution_count": null,
   "id": "e7bdee9d-99eb-440c-8587-aaa287830c5c",
   "metadata": {},
   "outputs": [],
   "source": [
    "# crimes by district\n",
    "plt.figure(figsize=(8,4))\n",
    "plt.title('Crimes by District')\n",
    "sns.barplot(data=crime_district,x='count',y='police_district')\n",
    "plt.show()"
   ]
  },
  {
   "cell_type": "code",
   "execution_count": null,
   "id": "c91f93c7-509d-472d-8334-c380cefc2116",
   "metadata": {},
   "outputs": [],
   "source": [
    "# crimes by district\n",
    "plt.figure(figsize=(8,4))\n",
    "plt.title('Crimes by Neighborhood')\n",
    "sns.barplot(data=crime_neighborhood.head(20),x='count',y='analysis_neighborhood')\n",
    "plt.show()"
   ]
  },
  {
   "cell_type": "code",
   "execution_count": null,
   "id": "e82edb4f-f5e4-4c40-81b5-00b5e2e9294c",
   "metadata": {},
   "outputs": [],
   "source": [
    "total = arrests.loc[0,'count'] + arrests.loc[1,'count']\n",
    "non = (arrests.loc[0,'count'] / total) * 100\n",
    "arr = (arrests.loc[1,'count'] / total) * 100\n",
    "arrests['percentage'] = [non,arr]\n",
    "print(arrests)\n",
    "\n",
    "plt.figure(figsize=(8,4))\n",
    "plt.title(\"Arrests v. Non-Arrests\")\n",
    "colors = ['#d42619','#3232ba']\n",
    "plt.pie(arrests.percentage,labels=arrests.resolution,colors=colors)\n",
    "plt.show()"
   ]
  },
  {
   "cell_type": "code",
   "execution_count": null,
   "id": "c011487b-43b1-4155-ad0a-f1fa22a67245",
   "metadata": {},
   "outputs": [],
   "source": [
    "# category - districts\n",
    "top_categories = (\n",
    "    cat_district.groupby('incident_category')['count']\n",
    "    .sum()\n",
    "    .sort_values(ascending=False)\n",
    "    .head(15)\n",
    "    .index\n",
    ")\n",
    "\n",
    "filtered = cat_district[cat_district['incident_category'].isin(top_categories)]\n",
    "\n",
    "heat_data = filtered.pivot_table(\n",
    "    index = 'police_district',\n",
    "    columns = 'incident_category',\n",
    "    values = 'count'\n",
    ")\n",
    "\n",
    "plt.figure(figsize=(16,6))\n",
    "plt.title(\"Crime Types by District\")\n",
    "sns.heatmap(heat_data,annot=True,cmap='PuRd')\n",
    "plt.xlabel(\"Crime Type\")\n",
    "plt.ylabel(\"District\")\n",
    "plt.show()"
   ]
  },
  {
   "cell_type": "markdown",
   "id": "750190eb-6cd5-45d8-a0a8-39c8355fdeca",
   "metadata": {},
   "source": [
    "# Predictions and Analysis"
   ]
  },
  {
   "cell_type": "markdown",
   "id": "b61f2ef0-66eb-49a1-a74d-3eba6fb695cb",
   "metadata": {},
   "source": [
    "Number of crimes (by year) decline over time with a sharp decline from 2019 to 2020\n",
    "\t- Crimes with null values were deleted = more null values for more recent crimes?\n",
    "\t- Not all 2025 crimes have been recorded yet\n",
    "\n",
    "The most common crime category is Larceny Theft, almost 250,000\n",
    "\t- Followed by Malicious Mischief, Miscellaneous and Assault\n",
    "\t- Least: weapons carrying\n",
    "\n",
    "The most crimes occurred in the Central District\n",
    "\t- Followed by Northen District and Mission District\n",
    "\t- Least: Park\n",
    "\n",
    "The most crimes occurred in the Tenderloin Neighborhood\n",
    "\t- Followed by Mission, South of Market and Financial District/South Beach\n",
    "\t- Least: Pacific Heights\n",
    "\n",
    "80% of crimes reported were non-arrest reports\n",
    "\t- Arrest: 593,950\n",
    "\t- Non-arrest: 146,796\n",
    "\n",
    "Larceny Theft was most common in the Central District\n",
    "Larceny Theft was most common in the Northen District\n",
    "Recovered Vehicles were most common outside of San Francisco"
   ]
  },
  {
   "cell_type": "code",
   "execution_count": null,
   "id": "d478b02e-7c8b-4cf7-825c-8edbf1bdda6d",
   "metadata": {},
   "outputs": [],
   "source": []
  }
 ],
 "metadata": {
  "kernelspec": {
   "display_name": "Python [conda env:base] *",
   "language": "python",
   "name": "conda-base-py"
  },
  "language_info": {
   "codemirror_mode": {
    "name": "ipython",
    "version": 3
   },
   "file_extension": ".py",
   "mimetype": "text/x-python",
   "name": "python",
   "nbconvert_exporter": "python",
   "pygments_lexer": "ipython3",
   "version": "3.13.5"
  }
 },
 "nbformat": 4,
 "nbformat_minor": 5
}
